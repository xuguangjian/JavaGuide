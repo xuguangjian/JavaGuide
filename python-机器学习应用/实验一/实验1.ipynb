{
 "cells": [
  {
   "cell_type": "code",
   "execution_count": 1,
   "metadata": {},
   "outputs": [],
   "source": [
    "import torch \n",
    "a = torch.cuda.is_available()"
   ]
  },
  {
   "cell_type": "markdown",
   "metadata": {},
   "source": [
    "##实验一 参考代码"
   ]
  },
  {
   "cell_type": "code",
   "execution_count": 2,
   "metadata": {},
   "outputs": [],
   "source": [
    "from sklearn.datasets import load_breast_cancer\n",
    "from sklearn.linear_model import LogisticRegression\n",
    "from sklearn.model_selection import train_test_split\n",
    "from sklearn.metrics import recall_score\n",
    "from sklearn.metrics import precision_score\n",
    "from sklearn.metrics import classification_report\n",
    "from sklearn.metrics import accuracy_score\n",
    "import warnings\n",
    "warnings.filterwarnings(\"ignore\")\n",
    "# 这个方法只是解决了表面，没有根治\n"
   ]
  },
  {
   "cell_type": "code",
   "execution_count": 3,
   "metadata": {},
   "outputs": [
    {
     "name": "stdout",
     "output_type": "stream",
     "text": [
      "train score:0.953846;testscore:0.973684\n",
      "准确率：0.9736842105263158\n",
      "召回率：0.9859154929577465\n",
      "精确率:0.9722222222222222\n",
      "              precision    recall  f1-score   support\n",
      "\n",
      "           0       0.98      0.95      0.96        43\n",
      "           1       0.97      0.99      0.98        71\n",
      "\n",
      "    accuracy                           0.97       114\n",
      "   macro avg       0.97      0.97      0.97       114\n",
      "weighted avg       0.97      0.97      0.97       114\n",
      "\n"
     ]
    }
   ],
   "source": [
    "cancer=load_breast_cancer()#加载乳腺癌数据\n",
    "X_train,X_test,y_train,y_test=train_test_split(cancer.data,cancer.target,test_size=0.2)\n",
    "model = LogisticRegression()\n",
    "model.fit(X_train,y_train)\n",
    "train_score=model.score(X_train,y_train)\n",
    "test_score=model.score(X_test,y_test)\n",
    "print(f'train score:{train_score:.6f};testscore:{test_score:.6f}')\n",
    "\n",
    "y_pred=model.predict(X_test)\n",
    "accuracy_score_value= accuracy_score(y_test,y_pred)\n",
    "recall_score_value = recall_score(y_test,y_pred)\n",
    "precision_score_value=precision_score(y_test,y_pred)\n",
    "classification_report_value=classification_report(y_test,y_pred)\n",
    "print(f\"准确率：{accuracy_score_value}\")\n",
    "print(f\"召回率：{recall_score_value}\")\n",
    "print(f\"精确率:{precision_score_value}\")\n",
    "print(classification_report_value)"
   ]
  },
  {
   "cell_type": "markdown",
   "metadata": {},
   "source": [
    "##实验二参考代码"
   ]
  },
  {
   "cell_type": "code",
   "execution_count": 4,
   "metadata": {},
   "outputs": [],
   "source": [
    "import numpy as np\n",
    "from sklearn.datasets import load_breast_cancer\n",
    "from sklearn.model_selection import train_test_split\n",
    "from sklearn.metrics import recall_score\n",
    "from sklearn.metrics import precision_score\n",
    "from sklearn.metrics import classification_report\n",
    "from sklearn.metrics import accuracy_score"
   ]
  },
  {
   "cell_type": "code",
   "execution_count": 5,
   "metadata": {},
   "outputs": [],
   "source": [
    "def loadTrainData():\n",
    "    cancer=load_breast_cancer()#加载乳腺癌数据\n",
    "    X=cancer.data\n",
    "    #加载乳腺癌判别特征\n",
    "    y=cancer.target#两个TAG,y=时为阴性，y=1时为阳性\n",
    "    #将数据集划分为训练集和测试集，测试集占比为8,2\n",
    "    X_train,X_test,y_train,y_test = train_test_split(X,y,test_size=0.2)\n",
    "    X_train = X_train.T\n",
    "    X_test = X_test.T\n",
    "    return X_train,X_test,y_train,y_test"
   ]
  },
  {
   "cell_type": "code",
   "execution_count": 6,
   "metadata": {},
   "outputs": [],
   "source": [
    "def sigmoid(inx):\n",
    "    from numpy import exp\n",
    "    return 1.0/(1.0 + exp(-inx))"
   ]
  },
  {
   "cell_type": "markdown",
   "metadata": {},
   "source": [
    "###初始化参数"
   ]
  },
  {
   "cell_type": "code",
   "execution_count": 7,
   "metadata": {},
   "outputs": [],
   "source": [
    "\n",
    "def initialize_para(dim):\n",
    "    mu = 0\n",
    "    sigma =0.1\n",
    "    np.random.seed()\n",
    "    w = np.random.normal(mu,sigma,dim)\n",
    "    w = np.reshape(w,(dim,1))\n",
    "    b=0\n",
    "    return w,b"
   ]
  },
  {
   "cell_type": "markdown",
   "metadata": {},
   "source": [
    "###前向传播"
   ]
  },
  {
   "cell_type": "code",
   "execution_count": 8,
   "metadata": {},
   "outputs": [],
   "source": [
    "\n",
    "def propagate(w,b,X,Y):\n",
    "    #eps防止1og运算遇到e\n",
    "    eps = 1e-5\n",
    "    m = X.shape[1]\n",
    "    #计算初步运算结果\n",
    "    A =sigmoid(np.dot(w.T,X)+b)\n",
    "    #计算损失函数值大小\n",
    "    cost =-1 / m*np.sum(np.multiply(Y,np.log(A+eps))+np.multiply(1-Y,np.log(1 - A + eps)))\n",
    "    #计算梯度值\n",
    "    dw = 1 /m*np.dot(X,(A -Y).T)\n",
    "    db = 1 /m*np.sum(A-Y)\n",
    "    cost = np.squeeze(cost)\n",
    "\n",
    "    grads ={\"dw\":dw,\n",
    "        \"db\":db}\n",
    "    #返回损失函数大小以及反向传播的梯度值\n",
    "    return grads,cost,A"
   ]
  },
  {
   "cell_type": "markdown",
   "metadata": {},
   "source": [
    "###num1 terations梯度下降次数\n",
    "###learning_rate学习率"
   ]
  },
  {
   "cell_type": "code",
   "execution_count": 9,
   "metadata": {},
   "outputs": [],
   "source": [
    "def optimize(w,b,X,Y,num_iterations,learning_rate):\n",
    "    costs=[] #记录损失函数值\n",
    "    #循环进行梯度下降\n",
    "    for i in range(num_iterations):\n",
    "        print(i)\n",
    "        grads,cost,pre_y = propagate(w,b,X,Y)\n",
    "        dw = grads[\"dw\"]\n",
    "        db = grads[\"db\"]\n",
    "        w=w - learning_rate * dw\n",
    "        b=b - learning_rate * db\n",
    "        #每100次循环记录一次损失函数大小并打印\n",
    "        if i%100==0:\n",
    "            costs.append(cost)\n",
    "        if i%100==0:\n",
    "            pre_Y[pre_Y >=0.5]=1\n",
    "            pre_Y[pre_Y< 0.5]=0\n",
    "            pre_Y=pre_Y.astype(np.int)\n",
    "            acc =1 - np.sum(pre_Y^Y)/len(Y)\n",
    "            print(\"Iteration:{} Loss ={},Acc = {}\".format(i,cost,acc))\n",
    "    #最终参数值\n",
    "    params = {\"w\":w,\n",
    "        \"b\":b}\n",
    "    return params,costs"
   ]
  },
  {
   "cell_type": "code",
   "execution_count": 10,
   "metadata": {},
   "outputs": [],
   "source": [
    "def predict(w,b,X):\n",
    "    #样本个数\n",
    "    m = X.shape[1]\n",
    "    #初始化预测输出\n",
    "    Y_prediction = np.zeros((1,m))\n",
    "    #转置参数向量w\n",
    "    w=w.reshape(X.shape[0],1)\n",
    "    #预测结果\n",
    "    Y_hat = sigmoid(np.dot(w.T,X)+b)\n",
    "    #将结果按照0.5的阈值转化为6/1\n",
    "    for i in range(Y_hat.shape[1]):\n",
    "        if Y_hat[:,i]>0.5:\n",
    "            Y_prediction[:,i]=1\n",
    "        else:\n",
    "            Y_prediction[:,i]=0\n",
    "    return Y_prediction"
   ]
  },
  {
   "cell_type": "code",
   "execution_count": 11,
   "metadata": {},
   "outputs": [],
   "source": [
    "#训川练以及预测\n",
    "def Logisticmodel(X_train,Y_train,X_test,Y_test,num_iterations=1000,learning_rate=0.1):\n",
    "    #初始化参数w,b\n",
    "    w,b = initialize_para(X_train.shape[0])\n",
    "    #梯度下降找到最优参数\n",
    "    parameters,costs = optimize(w,b,X_train,Y_train,num_iterations,learning_rate)\n",
    "    w = parameters[\"w\"]\n",
    "    b = parameters[\"b\"]\n",
    "    #训练集测试集的预测结果\n",
    "    Y_prediction_train = predict(w,b,X_train)\n",
    "    Y_prediction_test = predict(w,b,X_test)\n",
    "    Y_prediction_test = Y_prediction_test.T\n",
    "    #模型评价\n",
    "    accuracy_score_value = accuracy_score(Y_test,Y_prediction_test)\n",
    "    recall_score_value = recall_score(Y_test,Y_prediction_test)\n",
    "    precision_score_value = precision_score(Y_test,Y_prediction_test)\n",
    "    classification_report_value = classification_report(Y_test,Y_prediction_test)\n",
    "    print(\"准确率：\",accuracy_score_value)\n",
    "    print(\"召回率：\",recall_score_value)\n",
    "    print(\"精确率：\",precision_score_value)\n",
    "    print(classification_report_value)\n",
    "    d = {\"costs\":costs,\n",
    "        \"Y_prediction_test\":Y_prediction_test,\n",
    "        \"Y_prediction_train\":Y_prediction_train,\n",
    "        \"w\":w,\"b\":b,\n",
    "        \"learning_rate\":learning_rate,\n",
    "        \"num_iterations\":num_iterations}\n",
    "    return d"
   ]
  },
  {
   "cell_type": "code",
   "execution_count": 12,
   "metadata": {},
   "outputs": [],
   "source": [
    "if __name__=='_main_':\n",
    "    X_train,X_test,y_train,y_test = loadTrainData()\n",
    "    Logisticmodel(X_train,y_train,X_test,y_test)"
   ]
  }
 ],
 "metadata": {
  "kernelspec": {
   "display_name": "Python 3.7.4 ('base')",
   "language": "python",
   "name": "python3"
  },
  "language_info": {
   "codemirror_mode": {
    "name": "ipython",
    "version": 3
   },
   "file_extension": ".py",
   "mimetype": "text/x-python",
   "name": "python",
   "nbconvert_exporter": "python",
   "pygments_lexer": "ipython3",
   "version": "3.7.4"
  },
  "orig_nbformat": 4,
  "vscode": {
   "interpreter": {
    "hash": "88279d2366fe020547cde40dd65aa0e3aa662a6ec1f3ca12d88834876c85e1a6"
   }
  }
 },
 "nbformat": 4,
 "nbformat_minor": 2
}
