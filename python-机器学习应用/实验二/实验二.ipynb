{
 "cells": [
  {
   "cell_type": "code",
   "execution_count": 8,
   "metadata": {},
   "outputs": [],
   "source": [
    "from sklearn.datasets import load_iris\n",
    "from sklearn.linear_model import LogisticRegression\n",
    "from sklearn.model_selection import train_test_split\n",
    "import numpy as np\n",
    "from sklearn.preprocessing import label_binarize\n",
    "from sklearn.metrics import confusion_matrix,precision_score,accuracy_score,recall_score,f1_score,roc_auc_score,\\\n",
    "        roc_curve\n",
    "import matplotlib.pyplot as plt"
   ]
  },
  {
   "cell_type": "markdown",
   "metadata": {},
   "source": [
    "## 加载数据集"
   ]
  },
  {
   "cell_type": "code",
   "execution_count": 9,
   "metadata": {},
   "outputs": [],
   "source": [
    "def loadDataSet():\n",
    "    iris_dataset = load_iris()\n",
    "    X = iris_dataset.data\n",
    "    y = iris_dataset.target\n",
    "    #将数据划分为训川练集和测试集\n",
    "    X_train,X_test,y_train,y_test = train_test_split(X,y,test_size=0.2)\n",
    "    return X_train,X_test,y_train,y_test"
   ]
  },
  {
   "cell_type": "markdown",
   "metadata": {},
   "source": [
    "## 训练Logistic模性"
   ]
  },
  {
   "cell_type": "code",
   "execution_count": 10,
   "metadata": {},
   "outputs": [],
   "source": [
    "def trainLS(x_train,y_train):\n",
    "    #Logistic生成和训川练\n",
    "    clf = LogisticRegression()\n",
    "    clf.fit(x_train,y_train)\n",
    "    return clf"
   ]
  },
  {
   "cell_type": "markdown",
   "metadata": {},
   "source": [
    "## 训练SVM模性"
   ]
  },
  {
   "cell_type": "code",
   "execution_count": 11,
   "metadata": {},
   "outputs": [],
   "source": [
    "from sklearn import svm\n",
    "def trainSVM(x_train,y_train):\n",
    "    #SVM生成和训练\n",
    "    clf = svm.SVC(kernel='rbf',probability=True)\n",
    "    clf.fit(x_train,y_train)\n",
    "    return clf"
   ]
  },
  {
   "cell_type": "code",
   "execution_count": 12,
   "metadata": {},
   "outputs": [],
   "source": [
    "def drawRoC(y_one_hot,y_pre_pro):\n",
    "    #AUC值\n",
    "    auc = roc_auc_score(y_one_hot,y_pre_pro,average='micro')\n",
    "    #绘制ROC曲线\n",
    "    fpr,tpr,thresholds = roc_curve(y_one_hot.ravel(),y_pre_pro.ravel())\n",
    "    plt.plot(fpr,tpr,linewidth=2,label='AUC=%.3f'%auc)\n",
    "    plt.p1ot( [0,1],[0,1],'k--')\n",
    "    plt.axis([0,1.1,0,1.1])\n",
    "    plt.xlabel('False Postivie Rate')\n",
    "    plt.ylabel('True Positive Rate')\n",
    "    plt.legend()\n",
    "    plt.show()"
   ]
  },
  {
   "cell_type": "markdown",
   "metadata": {},
   "source": [
    "## 测试模型"
   ]
  },
  {
   "cell_type": "code",
   "execution_count": 13,
   "metadata": {},
   "outputs": [],
   "source": [
    "def test(model,x_test,y_test):\n",
    "    #将标签转换为one-hot形式\n",
    "    y_one_hot = label_binarize(y_test,np.arange(3))\n",
    "    #预测结果\n",
    "    y_pre = model.predict(x_test)\n",
    "    #预测结果的概率\n",
    "    y_pre_pro = model.predict_proba(x_test)\n",
    "    #混淆矩阵\n",
    "    con_matrix = confusion_matrix(y_test,y_pre)\n",
    "    print('confusion_matrix:\\n',con_matrix)\n",
    "    print('accuracy:{}'.format(accuracy_score(y_test,y_pre)))\n",
    "    print('precision:{}'.format(precision_score(y_test,y_pre,average='micro')))\n",
    "    print('recall:{}'.format(recall_score(y_test,y_pre,average='micro')))\n",
    "    print('f1-score:{}'.format(f1_score(y_test,y_pre,average='micro')))\n",
    "    # 绘制ROC曲线\n",
    "    drawRoC(y_one_hot,y_pre_pro)"
   ]
  },
  {
   "cell_type": "code",
   "execution_count": 14,
   "metadata": {},
   "outputs": [],
   "source": [
    "if  __name__=='main_':\n",
    "    X_train,x_test,y_train,y_test = loadDataSet()\n",
    "    #训川练Logistic模型\n",
    "    #model trainLS(X_train,y_train)\n",
    "    #训练SVM模型\n",
    "    model = trainSVM(X_train,y_train)\n",
    "    test(model,x_test,y_test)"
   ]
  }
 ],
 "metadata": {
  "kernelspec": {
   "display_name": "Python 3.7.4 ('base')",
   "language": "python",
   "name": "python3"
  },
  "language_info": {
   "codemirror_mode": {
    "name": "ipython",
    "version": 3
   },
   "file_extension": ".py",
   "mimetype": "text/x-python",
   "name": "python",
   "nbconvert_exporter": "python",
   "pygments_lexer": "ipython3",
   "version": "3.7.4"
  },
  "orig_nbformat": 4,
  "vscode": {
   "interpreter": {
    "hash": "88279d2366fe020547cde40dd65aa0e3aa662a6ec1f3ca12d88834876c85e1a6"
   }
  }
 },
 "nbformat": 4,
 "nbformat_minor": 2
}
