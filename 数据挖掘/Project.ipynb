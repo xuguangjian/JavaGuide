{
 "cells": [
  {
   "cell_type": "code",
   "execution_count": 6,
   "metadata": {},
   "outputs": [],
   "source": [
    "from numpy import *\n",
    "import operator \n",
    "from os import listdir\n",
    "def createDataSet(): \n",
    "    group = array([[1.0,1.1],[1.0,1.0],[0,0],[0,0.1]]) \n",
    "    labels = ['A','A','B','B']\n",
    "    return group, labels"
   ]
  },
  {
   "cell_type": "code",
   "execution_count": 8,
   "metadata": {},
   "outputs": [],
   "source": [
    "def classify(inX, dataset, labels, k): \n",
    "    \"\"\"inX 是输⼊的测试样本，是⼀个[x, y]样式的 dataset 是训练样本集 labels 是训练样本标签\n",
    "    k 是top k最相近的 \"\"\"\n",
    "# shape返回矩阵的[⾏数，列数]， # 那么shape[0]获取数据集的⾏数， # ⾏数就是样本的数量\n",
    "    dataSetSize = dataset.shape[0]\n",
    "    diffMat = np.tile(inX, (dataSetSize, 1)) - dataset\n",
    "    sqDiffMat = diffMat ** 2\n",
    "    sqDistance = sqDiffMat.sum(axis=1)\n",
    "    distance = sqDistance ** 0.5\n",
    "    sortedDistIndicies = distance.argsort()\n",
    "    classCount = {}\n",
    "    for i in range(k): \n",
    "        # index = sortedDistIndicies[i]是第i个最相近的样本下标 \n",
    "        # # voteIlabel = labels[index]是样本index对应的分类结果('A' or 'B') \n",
    "        voteIlabel = labels[sortedDistIndicies[i]] \n",
    "        # classCount.get(voteIlabel, 0)返回voteIlabel的值，如果不存在，则返回0 \n",
    "        # # 然后将票数增1\n",
    "        classCount[voteIlabel] = classCount.get(voteIlabel, 0) + 1\n",
    "    sortedClassCount = sorted(classCount.items(), key=operator.itemgetter(1), reverse=True) \n",
    "    return sortedClassCount[0][0]"
   ]
  },
  {
   "cell_type": "code",
   "execution_count": 9,
   "metadata": {},
   "outputs": [],
   "source": [
    "def file2matrix(filename): \n",
    "    fr = open(filename) \n",
    "    numberOfLines = len(fr.readlines()) \n",
    "    returnMat = zeros((numberOfLines,3))\n",
    "#get the number of lines in the file #prepare matrix to return\n",
    "    classLabelVector = [] \n",
    "    #prepare labels return\n",
    "    fr = open(filename) \n",
    "    index = 0 \n",
    "    for line in fr.readlines(): \n",
    "        line = line.strip() \n",
    "        listFromLine = line.split('\\t') \n",
    "        returnMat[index,:] = listFromLine[0:3] \n",
    "        classLabelVector.append(listFromLine[-1]) \n",
    "        index += 1\n",
    "    return returnMat,classLabelVector"
   ]
  },
  {
   "cell_type": "code",
   "execution_count": null,
   "metadata": {},
   "outputs": [],
   "source": []
  }
 ],
 "metadata": {
  "kernelspec": {
   "display_name": "base",
   "language": "python",
   "name": "python3"
  },
  "language_info": {
   "codemirror_mode": {
    "name": "ipython",
    "version": 3
   },
   "file_extension": ".py",
   "mimetype": "text/x-python",
   "name": "python",
   "nbconvert_exporter": "python",
   "pygments_lexer": "ipython3",
   "version": "3.7.13"
  },
  "orig_nbformat": 4
 },
 "nbformat": 4,
 "nbformat_minor": 2
}
