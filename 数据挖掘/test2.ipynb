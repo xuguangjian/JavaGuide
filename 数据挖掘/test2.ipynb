{
 "cells": [
  {
   "cell_type": "code",
   "execution_count": 1,
   "metadata": {},
   "outputs": [
    {
     "name": "stdout",
     "output_type": "stream",
     "text": [
      "[[  1 101]\n",
      " [  5  89]\n",
      " [108   5]\n",
      " [115   8]]\n",
      "['爱情片', '爱情片', '动作片', '动作片']\n"
     ]
    }
   ],
   "source": [
    "import numpy as np\n",
    "'''\n",
    "函数说明:创建数据集\n",
    " \n",
    "Parameters:\n",
    "    无\n",
    "Returns:\n",
    "    group - 数据集\n",
    "    labels - 分类标签\n",
    "'''\n",
    "def createDateSet():\n",
    "    # 四组二维特征\n",
    "    group = np.array([[1,101],[5,89],[108,5],[115,8]])\n",
    "    # 四组特征的标签\n",
    "    labels = ['爱情片','爱情片','动作片','动作片']\n",
    "    return group,labels\n",
    "\n",
    "if __name__ == '__main__':\n",
    "    # 创建数据集\n",
    "    group,lables = createDateSet()\n",
    "    # 打印数据集\n",
    "    print(group)\n",
    "    print(lables)\n"
   ]
  },
  {
   "cell_type": "code",
   "execution_count": 2,
   "metadata": {},
   "outputs": [
    {
     "name": "stdout",
     "output_type": "stream",
     "text": [
      "动作片\n"
     ]
    }
   ],
   "source": [
    "# * coding:utf-8_*_\n",
    "# 作者     :XiangLin\n",
    "# 创建时间 :19/02/2020 22:02\n",
    "# 文件     :MoveClassify.py\n",
    "# IDE      :PyCharm\n",
    "import numpy as np\n",
    "import operator\n",
    "'''\n",
    "函数说明:创建数据集\n",
    " \n",
    "Parameters:\n",
    "    无\n",
    "Returns:\n",
    "    group - 数据集\n",
    "    labels - 分类标签\n",
    "'''\n",
    "def createDateSet():\n",
    "    # 四组二维特征\n",
    "    group = np.array([[1,101],[5,89],[108,5],[115,8]])\n",
    "    # 四组特征的标签\n",
    "    labels = ['爱情片','爱情片','动作片','动作片']\n",
    "    return group,labels\n",
    "\n",
    "# if __name__ == '__main__':\n",
    "#     # 创建数据集\n",
    "#     group,lables = createDateSet()\n",
    "#     # 打印数据集\n",
    "#     print(group)\n",
    "#     print(lables)\n",
    "'''\n",
    "函数说明:kNN算法,分类器\n",
    "\n",
    "Parameters:\n",
    "    inX - 用于分类的数据(测试集)\n",
    "    dataSet - 用于训练的数据(训练集)\n",
    "    labes - 分类标签\n",
    "    k - kNN算法参数,选择距离最小的k个点\n",
    "Returns:\n",
    "    sortedClassCount[0][0] - 分类结果\n",
    "'''\n",
    "def classify0(inX,dataSet,labels,k):\n",
    "    # numpy函数shape[0]返回dataSet的行数\n",
    "    dataSetSize = dataSet.shape[0]\n",
    "    # 在列向量方向上重复inX共1次(横向)，行向量方向上重复inX共dataSetSize次(纵向)\n",
    "    diffMat = np.tile(inX,(dataSetSize,1)) - dataSet\n",
    "    # 二维特征相减后平方\n",
    "    sqDiffMat = diffMat**2\n",
    "    # sum()所有元素相加，sum(0)列相加，sum(1)行相加\n",
    "    sqDistance = sqDiffMat.sum(axis=1)\n",
    "    # 开方，计算出距离\n",
    "    distance = sqDistance**0.5\n",
    "    # 返回distances中元素从小到大排序后的索引值\n",
    "    sortedDistIndices = distance.argsort()\n",
    "    # 定一个记录类别次数的字典\n",
    "    classCount = {}\n",
    "    for i in range(k):\n",
    "        # 取出前k个元素的类别\n",
    "        voteIlabel = labels[sortedDistIndices[i]]\n",
    "        # dict.get(key,default=None),字典的get()方法,返回指定键的值,如果值不在字典中返回默认值。\n",
    "        # 计算类别次数\n",
    "        classCount[voteIlabel] = classCount.get(voteIlabel,0) + 1\n",
    "        # python3中用items()替换python2中的iteritems()\n",
    "        # key=operator.itemgetter(1)根据字典的值进行排序\n",
    "        # key=operator.itemgetter(0)根据字典的键进行排序\n",
    "        # reverse降序排序字典\n",
    "    sortedClassCount = sorted(classCount.items(),key=operator.itemgetter(1),reverse=True)\n",
    "    # 返回次数最多的类别,即所要分类的类别\n",
    "    return sortedClassCount[0][0]\n",
    "\n",
    "if __name__ == '__main__':\n",
    "    # 创建数据集\n",
    "    group,labels = createDateSet()\n",
    "    # 测试集\n",
    "    test = [101, 20]\n",
    "    # kNN分类\n",
    "    test_class = classify0(test, group, labels, 3)\n",
    "    # 打印分类结果\n",
    "    print(test_class)\n"
   ]
  }
 ],
 "metadata": {
  "kernelspec": {
   "display_name": "base",
   "language": "python",
   "name": "python3"
  },
  "language_info": {
   "codemirror_mode": {
    "name": "ipython",
    "version": 3
   },
   "file_extension": ".py",
   "mimetype": "text/x-python",
   "name": "python",
   "nbconvert_exporter": "python",
   "pygments_lexer": "ipython3",
   "version": "3.7.4"
  },
  "orig_nbformat": 4
 },
 "nbformat": 4,
 "nbformat_minor": 2
}
