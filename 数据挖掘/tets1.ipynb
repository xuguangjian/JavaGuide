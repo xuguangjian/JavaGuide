{
 "cells": [
  {
   "cell_type": "code",
   "execution_count": 1,
   "metadata": {},
   "outputs": [],
   "source": [
    "import numpy as np\n",
    "def createDataSet():\n",
    "    \"\"\"创建数据集\"\"\"\n",
    "    # 每组数据包含打斗数和接吻数；\n",
    "    group = np.array([[3, 104], [2, 100], [1, 81], [101, 10], [99, 5], [98, 2]])\n",
    "    # 每组数据对应的标签类型；\n",
    "    labels = ['Roman', 'Roman', 'Roman', 'Action', 'Action', 'Action']\n",
    "    return group, labels\n"
   ]
  },
  {
   "cell_type": "code",
   "execution_count": 2,
   "metadata": {},
   "outputs": [],
   "source": [
    "def classify(inx, dataSet, labels, k):\n",
    "    \"\"\"\n",
    "    KNN分类算法实现\n",
    "    :param inx:要预测电影的数据, e.g.[18, 90]\n",
    "    :param dataSet:传入已知数据集，e.g. group 相当于x\n",
    "    :param labels:传入标签，e.g. labels相当于y\n",
    "    :param k:KNN里面的k，也就是我们要选择几个近邻\n",
    "    :return:电影类新的排序\n",
    "    \"\"\"\n",
    "    dataSetSize = dataSet.shape[0]  # (6,2) -- 6行2列 ===> 6 获取行数\n",
    "    # tile会重复inx， 把它重复成(dataSetSize, 1)型的矩阵\n",
    "    # (x1 - y1), (x2 - y2)\n",
    "    diffMat = np.tile(inx, (dataSetSize, 1)) - dataSet\n",
    "    # 平方\n",
    "    sqDiffMat = diffMat ** 2\n",
    "    # 相加, axis=1行相加\n",
    "    sqDistance = sqDiffMat.sum(axis=1)\n",
    "    # 开根号\n",
    "    distance = sqDistance ** 0.5\n",
    "    # 排序索引： 输出的是序列号index， 而不是值\n",
    "    sortedDistIndicies = distance.argsort()\n",
    "    # print(sortedDistIndicies)\n",
    "\n",
    "    classCount = {}\n",
    "    for i in range(k):\n",
    "        # 获取排前k个的标签名；\n",
    "        voteLabel = labels[sortedDistIndicies[i]]\n",
    "        classCount[voteLabel] = classCount.get(voteLabel, 0) + 1\n",
    "\n",
    "    sortedClassCount = sorted(classCount.items(),\n",
    "                              key=lambda d: float(d[1]),\n",
    "                              reverse=True)\n",
    "    return sortedClassCount[0]"
   ]
  },
  {
   "cell_type": "code",
   "execution_count": 3,
   "metadata": {},
   "outputs": [
    {
     "name": "stdout",
     "output_type": "stream",
     "text": [
      "[3, 104]的电影类型： Roman\n"
     ]
    }
   ],
   "source": [
    "import numpy as np\n",
    "\n",
    "\n",
    "def createDataSet():\n",
    "    \"\"\"创建数据集\"\"\"\n",
    "    # 每组数据包含打斗数和接吻数；\n",
    "    group = np.array([[3, 104], [2, 100], [1, 81], [101, 10], [99, 5], [98, 2]])\n",
    "    # 每组数据对应的标签类型；\n",
    "    labels = ['Roman', 'Roman', 'Roman', 'Action', 'Action', 'Action']\n",
    "    return group, labels\n",
    "\n",
    "\n",
    "def classify(inx, dataSet, labels, k):\n",
    "    \"\"\"\n",
    "    KNN分类算法实现\n",
    "    :param inx:要预测电影的数据, e.g.[18, 90]\n",
    "    :param dataSet:传入已知数据集，e.g. group 相当于x\n",
    "    :param labels:传入标签，e.g. labels相当于y\n",
    "    :param k:KNN里面的k，也就是我们要选择几个近邻\n",
    "    :return:电影类新的排序\n",
    "    \"\"\"\n",
    "    dataSetSize = dataSet.shape[0]  # (6,2) -- 6行2列 ===> 6 获取行数\n",
    "    # tile会重复inx， 把它重复成(dataSetSize, 1)型的矩阵\n",
    "    # (x1 - y1), (x2 - y2)\n",
    "    diffMat = np.tile(inx, (dataSetSize, 1)) - dataSet\n",
    "    # 平方\n",
    "    sqDiffMat = diffMat ** 2\n",
    "    # 相加, axis=1行相加\n",
    "    sqDistance = sqDiffMat.sum(axis=1)\n",
    "    # 开根号\n",
    "    distance = sqDistance ** 0.5\n",
    "    # 排序索引： 输出的是序列号index， 而不是值\n",
    "    sortedDistIndicies = distance.argsort()\n",
    "    # print(sortedDistIndicies)\n",
    "\n",
    "    classCount = {}\n",
    "    for i in range(k):\n",
    "        # 获取排前k个的标签名；\n",
    "        voteLabel = labels[sortedDistIndicies[i]]\n",
    "        classCount[voteLabel] = classCount.get(voteLabel, 0) + 1\n",
    "\n",
    "    sortedClassCount = sorted(classCount.items(),\n",
    "                              key=lambda d: float(d[1]),\n",
    "                              reverse=True)\n",
    "    return sortedClassCount[0][0]\n",
    "\n",
    "\n",
    "if __name__ == '__main__':\n",
    "    group, label = createDataSet()\n",
    "    result = classify([3, 104], group, label, 5)\n",
    "    print(\"[3, 104]的电影类型：\",  result)"
   ]
  }
 ],
 "metadata": {
  "kernelspec": {
   "display_name": "base",
   "language": "python",
   "name": "python3"
  },
  "language_info": {
   "codemirror_mode": {
    "name": "ipython",
    "version": 3
   },
   "file_extension": ".py",
   "mimetype": "text/x-python",
   "name": "python",
   "nbconvert_exporter": "python",
   "pygments_lexer": "ipython3",
   "version": "3.7.4"
  },
  "orig_nbformat": 4
 },
 "nbformat": 4,
 "nbformat_minor": 2
}
